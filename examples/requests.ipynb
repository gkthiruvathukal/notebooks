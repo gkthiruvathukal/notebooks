{
 "cells": [
  {
   "cell_type": "markdown",
   "metadata": {},
   "source": [
    "This is a demonstration of how to use requests in Python. In this example, we are using requests to access a file using the GitHub API. The resulting JSON object contains a base64-encoded attribute (content), which is decoded, tuned into a list of lines. Lastly, we select some lines of interest.\n",
    "\n",
    "This example is used in our work on software metrics and the literal include service (for writing projects)."
   ]
  },
  {
   "cell_type": "code",
   "execution_count": 1,
   "metadata": {
    "collapsed": true
   },
   "outputs": [],
   "source": [
    "import requests\n",
    "import base64"
   ]
  },
  {
   "cell_type": "code",
   "execution_count": 2,
   "metadata": {
    "collapsed": true
   },
   "outputs": [],
   "source": [
    "r = requests.get(\"https://api.github.com/repos/gkthiruvathukal/st-hec/contents/hydra/dataserver.py\")"
   ]
  },
  {
   "cell_type": "code",
   "execution_count": 3,
   "metadata": {
    "collapsed": false
   },
   "outputs": [
    {
     "name": "stdout",
     "output_type": "stream",
     "text": [
      "200\n"
     ]
    }
   ],
   "source": [
    "print(r.status_code)\n",
    "\n"
   ]
  },
  {
   "cell_type": "code",
   "execution_count": 4,
   "metadata": {
    "collapsed": false
   },
   "outputs": [
    {
     "data": {
      "text/plain": [
       "dict_keys(['sha', 'size', '_links', 'download_url', 'url', 'path', 'html_url', 'encoding', 'name', 'git_url', 'type', 'content'])"
      ]
     },
     "execution_count": 4,
     "metadata": {},
     "output_type": "execute_result"
    }
   ],
   "source": [
    "r.json().keys()"
   ]
  },
  {
   "cell_type": "code",
   "execution_count": 7,
   "metadata": {
    "collapsed": false
   },
   "outputs": [
    {
     "name": "stdout",
     "output_type": "stream",
     "text": [
      "#   (at your option) any later version.\n",
      "#\n",
      "#   The Hydra Filesystem is distributed in the hope that it will be useful,\n",
      "#   but WITHOUT ANY WARRANTY; without even the implied warranty of\n",
      "#   MERCHANTABILITY or FITNESS FOR A PARTICULAR PURPOSE.  See the\n",
      "#   GNU General Public License for more details.\n",
      "#\n",
      "#   You should have received a copy of the GNU General Public License\n",
      "#   along with the Hydra Filesystem; if not, write to the Free Software\n",
      "#   Foundation, Inc., 51 Franklin St, Fifth Floor, Boston, MA  02110-1301  USA\n",
      "#\n",
      "#######################################################################################\n",
      "\n",
      "\n",
      "\n",
      "from common import network_services,packet_builder,packet_types,synchronized\n",
      "from common.dispatch import Dispatcher\n",
      "from common.rep_db import *\n",
      "from common import plugin\n",
      "\n"
     ]
    }
   ],
   "source": [
    "b64data = r.json().get('content')\n",
    "\n",
    "lines = base64.b64decode(b64data).decode(\"utf-8\").split('\\n')\n",
    "selected_lines = lines[10:30]\n",
    "print(\"\\n\".join(selected_lines))\n"
   ]
  },
  {
   "cell_type": "code",
   "execution_count": null,
   "metadata": {
    "collapsed": true
   },
   "outputs": [],
   "source": []
  }
 ],
 "metadata": {
  "kernelspec": {
   "display_name": "Python 3",
   "language": "python",
   "name": "python3"
  },
  "language_info": {
   "codemirror_mode": {
    "name": "ipython",
    "version": 3
   },
   "file_extension": ".py",
   "mimetype": "text/x-python",
   "name": "python",
   "nbconvert_exporter": "python",
   "pygments_lexer": "ipython3",
   "version": "3.4.0"
  }
 },
 "nbformat": 4,
 "nbformat_minor": 0
}
